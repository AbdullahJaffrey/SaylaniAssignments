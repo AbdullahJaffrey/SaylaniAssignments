{
 "cells": [
  {
   "cell_type": "markdown",
   "id": "3062a385",
   "metadata": {},
   "source": [
    "# Question 1: \n",
    "    Find all of the numbers from 1–1000 that are divisible by 8"
   ]
  },
  {
   "cell_type": "code",
   "execution_count": null,
   "id": "7a7071e3",
   "metadata": {},
   "outputs": [],
   "source": [
    "lists = list(range(1,1000))\n",
    "print([i for i in lists if i%8==0])"
   ]
  },
  {
   "cell_type": "markdown",
   "id": "5638e732",
   "metadata": {},
   "source": [
    "# Question 2:\n",
    "Find all of the numbers from 1–1000 that have a 6 in them"
   ]
  },
  {
   "cell_type": "code",
   "execution_count": null,
   "id": "9368bf9f",
   "metadata": {},
   "outputs": [],
   "source": [
    "string='6'\n",
    "print([i for i in lists if string in str(i)])"
   ]
  },
  {
   "cell_type": "markdown",
   "id": "67e13581",
   "metadata": {},
   "source": [
    "# Question 3:\n",
    "Count the number of spaces in a string (use string above)"
   ]
  },
  {
   "cell_type": "code",
   "execution_count": null,
   "id": "4677d076",
   "metadata": {},
   "outputs": [],
   "source": [
    "text = str(input(\"Enter some text: \"))\n",
    "print(len([i for i in text if i==\" \"]))"
   ]
  },
  {
   "cell_type": "markdown",
   "id": "7ea14532",
   "metadata": {},
   "source": [
    "# Question 4:\n",
    "Remove all of the vowels in a string"
   ]
  },
  {
   "cell_type": "code",
   "execution_count": null,
   "id": "b7a49342",
   "metadata": {},
   "outputs": [],
   "source": [
    "vowel = ['a','e','i','o','u']\n",
    "text = str(input(\"Enter some text: \"))\n",
    "print([i for i in text if i not in vowel[:]])"
   ]
  },
  {
   "cell_type": "markdown",
   "id": "e164c1a4",
   "metadata": {},
   "source": [
    "# Question 5:\n",
    "Find all of the words in a string that are less than 5 letters"
   ]
  },
  {
   "cell_type": "code",
   "execution_count": null,
   "id": "a22914df",
   "metadata": {},
   "outputs": [],
   "source": [
    "text = input(\"Enter some text: \").split(\" \")\n",
    "print([i for i in text if len(i) < 5 ])"
   ]
  },
  {
   "cell_type": "markdown",
   "id": "ff4db2a7",
   "metadata": {},
   "source": [
    "# Question 6:    \n",
    "Use a list comprehension that iterates over a_list, prints a list composed of each value in a_list multiplied by 10."
   ]
  },
  {
   "cell_type": "code",
   "execution_count": null,
   "id": "de8ca0ec",
   "metadata": {},
   "outputs": [],
   "source": [
    "list1 = list(range(1,100))\n",
    "list2 = [i*10 for i in list1]\n",
    "print(list2)"
   ]
  },
  {
   "cell_type": "markdown",
   "id": "c9eee178",
   "metadata": {},
   "source": [
    "# Question 7:\n",
    "    Use a list comprehension that iterates over a_list, prints a list composed of odd numbers from 1 to 9."
   ]
  },
  {
   "cell_type": "code",
   "execution_count": null,
   "id": "078a132f",
   "metadata": {},
   "outputs": [],
   "source": [
    "list1 = list(range(1,100))\n",
    "list2 = [i for i in list1 if i%2 !=0]\n",
    "print(list2)"
   ]
  }
 ],
 "metadata": {
  "kernelspec": {
   "display_name": "Python 3 (ipykernel)",
   "language": "python",
   "name": "python3"
  },
  "language_info": {
   "codemirror_mode": {
    "name": "ipython",
    "version": 3
   },
   "file_extension": ".py",
   "mimetype": "text/x-python",
   "name": "python",
   "nbconvert_exporter": "python",
   "pygments_lexer": "ipython3",
   "version": "3.9.7"
  }
 },
 "nbformat": 4,
 "nbformat_minor": 5
}
