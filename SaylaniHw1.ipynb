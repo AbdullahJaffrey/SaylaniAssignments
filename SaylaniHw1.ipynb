{
 "cells": [
  {
   "cell_type": "markdown",
   "metadata": {
    "id": "VvZsIFPAeL8v"
   },
   "source": [
    "**Saylani Assignment 01:**\n",
    "\n",
    "\n",
    "```\n",
    "# Practice Assignment:\n",
    "```\n",
    "\n",
    "\n"
   ]
  },
  {
   "cell_type": "markdown",
   "metadata": {
    "id": "xEoP1cog8B_l"
   },
   "source": [
    "1) A company decided to give bonus of 5% to employee if his/her year of service is more than 5 years.\n",
    "Ask user for their salary and year of service and print the net bonus amount."
   ]
  },
  {
   "cell_type": "code",
   "execution_count": 1,
   "metadata": {
    "colab": {
     "base_uri": "https://localhost:8080/"
    },
    "id": "lhM5qk_-8GQR",
    "outputId": "fa3e958b-9cde-42c6-9e7b-1b5313251488"
   },
   "outputs": [
    {
     "name": "stdout",
     "output_type": "stream",
     "text": [
      "Enter your monthly salary: 35000\n",
      "Enter your year of service 6\n",
      "Congratulations! you get 36750.0 as bonus salary  \n"
     ]
    }
   ],
   "source": [
    "#Type your code here\n",
    "\n",
    "salary = int(input(\"Enter your monthly salary: \"));\n",
    "services = int(input(\"Enter your year of service \"));\n",
    "\n",
    "if services > 5:\n",
    "    bonus = salary * 5/100 \n",
    "    salary_bonus = bonus + salary\n",
    "    print(f\"Congratulations! you get {salary_bonus} as bonus salary  \")\n",
    "else:\n",
    "    print(\"No bonus for you\")"
   ]
  },
  {
   "cell_type": "markdown",
   "metadata": {
    "id": "XZF1TnnJ-CA5"
   },
   "source": [
    "2) Write a program to check whether a person is eligible for voting or not. (accept age from user)\n"
   ]
  },
  {
   "cell_type": "code",
   "execution_count": 2,
   "metadata": {
    "colab": {
     "base_uri": "https://localhost:8080/"
    },
    "id": "4IqiBNDx-MXr",
    "outputId": "c825fa58-ea4f-4aea-c5d6-bbaf6e798d39"
   },
   "outputs": [
    {
     "name": "stdout",
     "output_type": "stream",
     "text": [
      "Enter your age: 18\n",
      "Congratulations! you are eligible to vote as you are now 18 years old \n"
     ]
    }
   ],
   "source": [
    "#Type your code here\n",
    "\n",
    "age = int(input(\"Enter your age: \"))\n",
    "\n",
    "if age > 18 or age == 18:\n",
    "    print(f\"Congratulations! you are eligible to vote as you are now {age} years old \")\n",
    "else:\n",
    "    print(\"Sorry, but you can't vote\")"
   ]
  },
  {
   "cell_type": "markdown",
   "metadata": {
    "id": "zTz14GXE-b7S"
   },
   "source": [
    "3) Write a program to check whether a number entered by user is even or odd."
   ]
  },
  {
   "cell_type": "code",
   "execution_count": 3,
   "metadata": {
    "colab": {
     "base_uri": "https://localhost:8080/"
    },
    "id": "5LqG1LaT-cKJ",
    "outputId": "424d4900-eb10-4e45-ac68-5ffbc2f217e6"
   },
   "outputs": [
    {
     "name": "stdout",
     "output_type": "stream",
     "text": [
      "Enter your number: 34\n",
      "You have entered 34 an even number \n"
     ]
    }
   ],
   "source": [
    "#Type your code here\n",
    "\n",
    "number = int(input(\"Enter your number: \"))\n",
    "\n",
    "if number%2 == 0:\n",
    "    print(f\"You have entered {number} an even number \")\n",
    "else:\n",
    "    print(f\"You have entered {number} an odd number \")"
   ]
  },
  {
   "cell_type": "markdown",
   "metadata": {
    "id": "mCw6G_rz_flZ"
   },
   "source": [
    "\n",
    "4) Write a program to check whether a number is divisible by 7 or not.\n",
    "Show Answer\n"
   ]
  },
  {
   "cell_type": "code",
   "execution_count": 4,
   "metadata": {
    "colab": {
     "base_uri": "https://localhost:8080/"
    },
    "id": "MZnZsiyP_fQI",
    "outputId": "8c82b8bb-24e7-4b57-8f86-e2310a575662"
   },
   "outputs": [
    {
     "name": "stdout",
     "output_type": "stream",
     "text": [
      "Enter your number: 49\n",
      "You have entered 49 that is divisible by 7 \n"
     ]
    }
   ],
   "source": [
    "#Type your code here\n",
    "\n",
    "number = int(input(\"Enter your number: \"))\n",
    "\n",
    "if number%7 == 0:\n",
    "    print(f\"You have entered {number} that is divisible by 7 \")\n",
    "else:\n",
    "    print(f\"You have entered {number} that is not divisible by 7 \")"
   ]
  },
  {
   "cell_type": "markdown",
   "metadata": {
    "id": "r7LV6rPMAJgH"
   },
   "source": [
    "Q7. Write a program to display \n",
    "\"Hello\" if a number entered by user is a multiple of five , otherwise print \"Bye\"."
   ]
  },
  {
   "cell_type": "code",
   "execution_count": 5,
   "metadata": {
    "colab": {
     "base_uri": "https://localhost:8080/"
    },
    "id": "Mhk2KjVcAJuq",
    "outputId": "178fbc90-e50d-4d89-fa5e-ffa15a3fd3bf"
   },
   "outputs": [
    {
     "name": "stdout",
     "output_type": "stream",
     "text": [
      "Enter your number: 35\n",
      "Hello\n"
     ]
    }
   ],
   "source": [
    "#Type your code here\n",
    "\n",
    "number = int(input(\"Enter your number: \"))\n",
    "\n",
    "if number%5 == 0:\n",
    "    print(\"Hello\")\n",
    "else:\n",
    "    print(\"Bye\")"
   ]
  },
  {
   "cell_type": "markdown",
   "metadata": {
    "id": "H7IrcNs6Av63"
   },
   "source": [
    "Q8. Write a program to calculate the electricity bill (accept number of unit from user) according to the following criteria :\n",
    "             Unit                                                     Price  \n",
    "First 100 units                                               no charge\n",
    "Next 100 units                                              Rs 5 per unit\n",
    "After 200 units                                             Rs 10 per unit\n",
    "(For example if input unit is 350 than total bill amount is Rs2000)"
   ]
  },
  {
   "cell_type": "code",
   "execution_count": 6,
   "metadata": {
    "colab": {
     "base_uri": "https://localhost:8080/"
    },
    "id": "P1KsIQLjAwP9",
    "outputId": "b43aa4fa-d307-41be-9d50-b563095a7208"
   },
   "outputs": [
    {
     "name": "stdout",
     "output_type": "stream",
     "text": [
      "enter number of unit: 312\n",
      "We billed you 2000\n"
     ]
    }
   ],
   "source": [
    "number_of_unit = int(input(\"enter number of unit: \"))\n",
    "\n",
    "if number_of_unit < 100:\n",
    "   number_of_unit = 0\n",
    "   bill = number_of_unit * 0\n",
    "   print(f\"We billed you {bill}\")\n",
    "elif number_of_unit > 100 and number_of_unit < 200:\n",
    "   number_of_unit = 100\n",
    "   bill = number_of_unit * 5\n",
    "   print(f\"We billed you {bill}\")\n",
    "else:\n",
    "   number_of_unit = 200\n",
    "   bill = number_of_unit * 10\n",
    "   print(f\"We billed you {bill}\")\n"
   ]
  },
  {
   "cell_type": "markdown",
   "metadata": {
    "id": "XzjtaHuADIM-"
   },
   "source": [
    "12) Take two int values from user and print greatest among them."
   ]
  },
  {
   "cell_type": "code",
   "execution_count": 7,
   "metadata": {
    "colab": {
     "base_uri": "https://localhost:8080/"
    },
    "id": "ELAwSjw2DKUL",
    "outputId": "074bbe00-5e38-4437-edb4-14c610ae66ac"
   },
   "outputs": [
    {
     "name": "stdout",
     "output_type": "stream",
     "text": [
      "enter value 1: 34\n",
      "enter value 2: 61\n",
      "61 is bigger than 34\n"
     ]
    }
   ],
   "source": [
    "val1 = int(input(\"enter value 1: \"))\n",
    "val2 = int(input(\"enter value 2: \"))\n",
    "\n",
    "if val1 > val2:\n",
    "  print(f\"{val1} is bigger than {val2}\")\n",
    "else:\n",
    "  print(f\"{val2} is bigger than {val1}\")"
   ]
  },
  {
   "cell_type": "markdown",
   "metadata": {
    "id": "JUyP5RTmE6X1"
   },
   "source": [
    "\n",
    "\n",
    "14) A shop will give discount of 10% if the cost of purchased quantity is more than 1000.\n",
    "Ask user for quantity\n",
    "Suppose, one unit will cost 100.\n",
    "Judge and print total cost for user.\n",
    "\n"
   ]
  },
  {
   "cell_type": "code",
   "execution_count": 8,
   "metadata": {
    "colab": {
     "base_uri": "https://localhost:8080/"
    },
    "id": "wg3edM3VE6m-",
    "outputId": "08b247a4-91cb-47db-8d7c-c1240c2a1ec4"
   },
   "outputs": [
    {
     "name": "stdout",
     "output_type": "stream",
     "text": [
      "enter number of unit: 5\n",
      "No discount available\n"
     ]
    }
   ],
   "source": [
    "quantity = int(input(\"enter number of unit: \"))\n",
    "\n",
    "cost = quantity * 100\n",
    "if cost > 1000:\n",
    "    discount = cost * 10/100 \n",
    "    discount_offer = cost - discount\n",
    "    print(f\"Congratulations! you get {discount_offer} after discount  \")\n",
    "else:\n",
    "    print(\"No discount available\")"
   ]
  },
  {
   "cell_type": "markdown",
   "metadata": {
    "id": "VbYY3hPSHX6B"
   },
   "source": [
    "15) A school has following rules for grading system:\n",
    "\n",
    "a. Below 25 - F\n",
    "\n",
    "b. 25 to 45 - E\n",
    "\n",
    "c. 45 to 50 - D\n",
    "\n",
    "d. 50 to 60 - C\n",
    "\n",
    "e. 60 to 80 - B\n",
    "\n",
    "f. Above 80 - A\n",
    "\n",
    "Ask user to enter marks and print the corresponding grade."
   ]
  },
  {
   "cell_type": "code",
   "execution_count": 9,
   "metadata": {
    "colab": {
     "base_uri": "https://localhost:8080/"
    },
    "id": "NpIwomX7HYJx",
    "outputId": "ebd60007-64f9-4bf7-ff05-28192b3aeb76"
   },
   "outputs": [
    {
     "name": "stdout",
     "output_type": "stream",
     "text": [
      "Enter Marks in Maths: 76\n",
      "Enter Marks in DBMS: 81\n",
      "Enter Marks in OR: 83\n",
      "Enter Marks in DSC: 84\n",
      "Enter Marks in Calculas: 54\n",
      "You got 378 out of 500\n",
      "You got B Grade\n"
     ]
    }
   ],
   "source": [
    "subj1  = float(input(\"Enter Marks in Maths: \"))\n",
    "subj2  = float(input(\"Enter Marks in DBMS: \"));\n",
    "subj3  = float(input(\"Enter Marks in OR: \"))\n",
    "subj4  = float(input(\"Enter Marks in DSC: \"));\n",
    "subj5  = float(input(\"Enter Marks in Calculas: \"))\n",
    "\n",
    "obt_marks = int(subj1+subj2+subj3+subj4+subj5)\n",
    "total_marks = 500\n",
    "print(f\"You got {obt_marks} out of {total_marks}\")\n",
    "\n",
    "percentage_grid = (obt_marks/total_marks)*100\n",
    "# print(f\"Your Percentage: {percentage_grid}\")\n",
    "\n",
    "if percentage_grid < 25:\n",
    "    print('Sorry, You got F Grade')\n",
    "elif percentage_grid > 25 and percentage_grid < 45:\n",
    "    print('You got E Grade')\n",
    "elif percentage_grid > 45 and percentage_grid < 50:\n",
    "    print('You got D Grade')\n",
    "elif percentage_grid > 50 and percentage_grid < 60:\n",
    "    print('You got C Grade')\n",
    "elif percentage_grid > 60 and percentage_grid < 80:\n",
    "    print('You got B Grade')\n",
    "elif percentage_grid > 80 and percentage_grid < 100:\n",
    "    print('You got A Grade')\n",
    "else:\n",
    "    print(\"You require a recheck\")"
   ]
  },
  {
   "cell_type": "markdown",
   "metadata": {
    "id": "SEz3MZLSK-6N"
   },
   "source": [
    "16) Take input of age of 3 people by user and determine oldest and youngest among them."
   ]
  },
  {
   "cell_type": "code",
   "execution_count": 10,
   "metadata": {
    "colab": {
     "base_uri": "https://localhost:8080/"
    },
    "id": "iqp7kTY0K6QS",
    "outputId": "2d3ff07e-e960-4afc-bfd4-2f340f65baca"
   },
   "outputs": [
    {
     "name": "stdout",
     "output_type": "stream",
     "text": [
      "Enter your age: 41\n",
      "Enter your age: 63\n",
      "Enter your age: 26\n",
      " Person 3  : 26 is smallest compare with smaller Person 1 : 41  and Person 2 : 63 \n"
     ]
    }
   ],
   "source": [
    "person1 = int(input(\"Enter your age: \"))\n",
    "person2 = int(input(\"Enter your age: \"))\n",
    "person3 = int(input(\"Enter your age: \"))\n",
    "\n",
    "\n",
    "if person1 < person2 < person3:\n",
    "  print(f\" Person 1 : {person1} is smallest compare with smaller Person 2 : {person2}  and Person 3 : {person3} \")\n",
    "elif person1 < person3 < person2:\n",
    "  print(f\" Person 1 : {person1} is smallest compare with smaller Person 3 : {person3}  and Person 2 : {person2} \")\n",
    "elif person2 < person1 < person3:\n",
    "  print(f\" Person 2 : {person2} is smallest compare with smaller Person 1 : {person1}  and Person 3 : {person3} \")\n",
    "elif person2 < person3 < person1:\n",
    "  print(f\" Person 2 : {person2} is smallest compare with smaller Person 3 : {person3}  and Person 1 : {person1} \")\n",
    "elif person3 < person1 < person2:\n",
    "  print(f\" Person 3  : {person3} is smallest compare with smaller Person 1 : {person1}  and Person 2 : {person2} \")\n",
    "elif person3 < person2 < person1:\n",
    "  print(f\" Person 3 : {person3} is smallest compare with smaller Person 2 : {person2}  and Person 1 : {person1} \")\n",
    "else:\n",
    "  print(\"All are equal\");"
   ]
  },
  {
   "cell_type": "markdown",
   "metadata": {
    "id": "aXQDgaZoN-Dw"
   },
   "source": [
    "17)A student will not be allowed to sit in exam if his/her attendence is less than 75%.\n",
    "\n",
    "Take following input from user\n",
    "\n",
    "Number of classes held\n",
    "\n",
    "Number of classes attended.\n",
    "\n",
    "And print\n",
    "\n",
    "percentage of class attended\n",
    "\n",
    "Is student is allowed to sit in exam or not.\n",
    "\n"
   ]
  },
  {
   "cell_type": "code",
   "execution_count": 11,
   "metadata": {
    "colab": {
     "base_uri": "https://localhost:8080/"
    },
    "id": "bg_Y744KN-RO",
    "outputId": "74b047df-015f-4592-c11d-0209859ebe9e"
   },
   "outputs": [
    {
     "name": "stdout",
     "output_type": "stream",
     "text": [
      "Number of classes held: 12\n",
      "Number of classes attended: 15\n",
      "All the best for the exams\n"
     ]
    }
   ],
   "source": [
    "classes_held = float(input(\"Number of classes held: \"))\n",
    "classes_attended = float(input(\"Number of classes attended: \"))\n",
    "percentage_of_class_attended = (classes_held/classes_attended)*100\n",
    "\n",
    "if percentage_of_class_attended > 75:\n",
    "  print(\"All the best for the exams\")\n",
    "else:\n",
    "  print(\"Sorry, but you can't sit\")"
   ]
  },
  {
   "cell_type": "markdown",
   "metadata": {
    "id": "nIhGwfGIP8vs"
   },
   "source": [
    "18) Modify the above question to allow student to sit if he/she has medical cause. Ask user if he/she has medical cause or not ( 'Y' or 'N' ) and print accordingly."
   ]
  },
  {
   "cell_type": "code",
   "execution_count": 12,
   "metadata": {
    "colab": {
     "base_uri": "https://localhost:8080/"
    },
    "id": "rCKJZwq5P9Ky",
    "outputId": "36af65d0-6bfc-4c10-8c51-2256f08a01df"
   },
   "outputs": [
    {
     "name": "stdout",
     "output_type": "stream",
     "text": [
      "Number of classes held: 3\n",
      "Number of classes attended: 15\n",
      "Do you have a medical certificate? If yes press 'Y', Else 'N' : Y\n",
      "Okay, we allow you to take exam on your medical behalf\n"
     ]
    }
   ],
   "source": [
    "classes_held = float(input(\"Number of classes held: \"))\n",
    "classes_attended = float(input(\"Number of classes attended: \"))\n",
    "percentage_of_class_attended = (classes_held/classes_attended)*100\n",
    "medical_certificate = str(input(\"Do you have a medical certificate? If yes press 'Y', Else 'N' : \"))\n",
    "if medical_certificate == 'Y':\n",
    "  medical_certificate = 1\n",
    "else:\n",
    "  medical_certificate = 0\n",
    "\n",
    "\n",
    "if percentage_of_class_attended > 75:\n",
    "  print(\"All the best for the exams\")\n",
    "elif percentage_of_class_attended < 75 and medical_certificate == 1:\n",
    "  print(\"Okay, we allow you to take exam on your medical behalf\")\n",
    "else:\n",
    "  print(\"Sorry, but you can't sit in the exams!\")"
   ]
  },
  {
   "cell_type": "markdown",
   "metadata": {
    "id": "vgwWNqQXSeB_"
   },
   "source": [
    "19) Write a program to check if a year is leap year or not.\n",
    "\n",
    "If a year is divisible by 4 then it is leap year but if the year is century year like 2000, 1900, 2100 then it must be divisible by 400."
   ]
  },
  {
   "cell_type": "code",
   "execution_count": 13,
   "metadata": {
    "colab": {
     "base_uri": "https://localhost:8080/"
    },
    "id": "eKAdTgjBSfAG",
    "outputId": "618db719-fc1b-4004-d5f7-785fe2c08d6d"
   },
   "outputs": [
    {
     "name": "stdout",
     "output_type": "stream",
     "text": [
      "Enter current year: 2022\n",
      "Just as common\n"
     ]
    }
   ],
   "source": [
    "#Type your code here\n",
    "\n",
    "year = int(input(\"Enter current year: \"))\n",
    "\n",
    "if year%4 == 0:\n",
    "    print(\"Its a Leap year!\")\n",
    "    if year%100 == 0:\n",
    "      print(year)\n",
    "      if year%400 == 0:\n",
    "        print(f\"{year} is divisble by 400\")\n",
    "      else:\n",
    "        print(None)\n",
    "\n",
    "else:\n",
    "    print(\"Just as common\")"
   ]
  },
  {
   "cell_type": "markdown",
   "metadata": {
    "id": "nTwA5HhRVPPf"
   },
   "source": [
    "20) Ask user to enter age, gender ( M or F ), marital status ( Y or N ) and then using following rules print their place of service:\n",
    "\n",
    "1.   If employee is female, then she will work only in urban areas.\n",
    "2.   If employee is a male and age is in between 20 to 40 then he may work in anywhere\n",
    "3.   If employee is male and age is in between 40 t0 60 then he will work in urban areas only.\n",
    "4.   And any other input of age should print \"ERROR\"\n",
    "\n",
    "\n",
    "\n",
    "\n",
    "\n",
    "\n"
   ]
  },
  {
   "cell_type": "code",
   "execution_count": 14,
   "metadata": {
    "colab": {
     "base_uri": "https://localhost:8080/"
    },
    "id": "wdPF6tCNVPjF",
    "outputId": "5f2b3105-6c71-47da-d165-1a9097ae04fd"
   },
   "outputs": [
    {
     "name": "stdout",
     "output_type": "stream",
     "text": [
      "Enter your age: 25\n",
      "If yes press 'Y', Else 'N' : N\n",
      "If Male press 'M', Else 'F' : M\n",
      "Okay, You may work in anywhere\n"
     ]
    }
   ],
   "source": [
    "Ager = int(input(\"Enter your age: \"))\n",
    "Marital = str(input(\"If yes press 'Y', Else 'N' : \"))\n",
    "Gender = str(input(\"If Male press 'M', Else 'F' : \"))\n",
    "\n",
    "\n",
    "if Marital == 'Y':\n",
    "  Marital = 1\n",
    "else:\n",
    "  Marital = 0\n",
    "\n",
    "\n",
    "if Gender == 'M':\n",
    "  Gender = 1\n",
    "elif Gender == 'F':\n",
    "  Gender = 0\n",
    "else:\n",
    "   print(\"Select again\")\n",
    "\n",
    "\n",
    "\n",
    "\n",
    "if Gender == 0:\n",
    "  print(\"Female employee will work only in urban areas\")\n",
    "elif Gender == 1 and Ager > 20 < 40:\n",
    "  print(\"Okay, You may work in anywhere\")\n",
    "elif Gender == 1 or Ager > 40 < 60:\n",
    "  print(\"Okay, You may work in urban areas only\")\n",
    "else:\n",
    "  print(\"Error\")"
   ]
  },
  {
   "cell_type": "code",
   "execution_count": null,
   "metadata": {
    "id": "h0FX0McIZBA8"
   },
   "outputs": [],
   "source": []
  },
  {
   "cell_type": "code",
   "execution_count": null,
   "metadata": {
    "id": "zQhhKZ29ZAN2"
   },
   "outputs": [],
   "source": []
  }
 ],
 "metadata": {
  "colab": {
   "collapsed_sections": [],
   "name": "SaylaniHw1.ipynb",
   "provenance": []
  },
  "kernelspec": {
   "display_name": "Python 3 (ipykernel)",
   "language": "python",
   "name": "python3"
  },
  "language_info": {
   "codemirror_mode": {
    "name": "ipython",
    "version": 3
   },
   "file_extension": ".py",
   "mimetype": "text/x-python",
   "name": "python",
   "nbconvert_exporter": "python",
   "pygments_lexer": "ipython3",
   "version": "3.9.7"
  }
 },
 "nbformat": 4,
 "nbformat_minor": 1
}
